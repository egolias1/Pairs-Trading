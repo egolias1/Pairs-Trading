{
 "cells": [
  {
   "cell_type": "code",
   "execution_count": 32,
   "id": "b48f2de4",
   "metadata": {},
   "outputs": [],
   "source": [
    "import sys\n",
    "\n",
    "import statsmodels.tsa.stattools as ts\n",
    "import statsmodels.tsa.stattools as ts\n",
    "\n",
    "#Financial data will be importing via Yahoo finance\n",
    "import yfinance as yf\n",
    "import scipy\n",
    "\n",
    "import numpy as np\n",
    "\n",
    "import datetime\n",
    "from datetime import timedelta"
   ]
  },
  {
   "cell_type": "code",
   "execution_count": 39,
   "id": "7ec67c6d",
   "metadata": {},
   "outputs": [],
   "source": [
    "#!{sys.executable} -m pip install datetime"
   ]
  },
  {
   "cell_type": "code",
   "execution_count": 71,
   "id": "8862225b",
   "metadata": {},
   "outputs": [],
   "source": [
    "def cointegrated_pairs(data):\n",
    "    n =  (len(data.columns) -1)\n",
    "    stocks = data.iloc[:,1:].columns.values #pulls all stock names \n",
    "    data = data.to_numpy()\n",
    "    pvalue_matrix = np.zeros((n,n),dtype = float)\n",
    "    pairs = np.empty((n*n,2),dtype=object)\n",
    "    m = 0\n",
    "    #loop through all possilbe combintions of stocks ie 3!=6\n",
    "    for i in range(0,n):\n",
    "        for j in range(0,n):\n",
    "            S1 = data[:,i+1]\n",
    "            print(S1)\n",
    "            S2 = data[:,j+1]\n",
    "            print(S2)\n",
    "            result = ts.coint(S1,S2)\n",
    "            pvalue_matrix[i,j] = result[1]\n",
    "            #storing all paris in matrix form\n",
    "            if (result[1] < 0.05) & (i!=j):\n",
    "                pairs[m,0] = stocks[i]\n",
    "                pairs[m,1] = stocks[j] \n",
    "                m = m + 1\n",
    "    return pvalue_matrix,  pairs"
   ]
  },
  {
   "cell_type": "code",
   "execution_count": 65,
   "id": "de00b9eb",
   "metadata": {},
   "outputs": [
    {
     "name": "stdout",
     "output_type": "stream",
     "text": [
      "d1 = 2022-05-13\n",
      "S&P500 Stock download\n",
      "[*********************100%***********************]  2 of 2 completed\n",
      "d1 = 2022-05-13\n",
      "S&P500 Stock download\n",
      "[*********************100%***********************]  2 of 2 completed\n"
     ]
    }
   ],
   "source": [
    "#Example 2:\n",
    "#SPY: SPDR S&P 500 ETF Trust\n",
    "#DIA: SPDR Dow Jones Industrial Average ETF Trust\n",
    "\n",
    "#Example 1:\n",
    "#AAPL: Apple\n",
    "#MSFT: Microsoft\n",
    "\n",
    "today = datetime.date.today()\n",
    "sp_list1 = ['SPY','DIA']\n",
    "offset = max(1, (today.weekday() + 6) % 7 - 3)\n",
    "timed = timedelta(offset)\n",
    "today_business = today - timed\n",
    "print(\"d1 =\", today_business)\n",
    "today = today_business.strftime(\"%Y-%m-%d\")\n",
    "start = '2010-01-01' \n",
    "end = today\n",
    "print('S&P500 Stock download')\n",
    "spy = yf.download(sp_list, start, end)\n",
    "#print(sp_list[0])\n",
    "#print(spy)\n",
    "\n",
    "today = datetime.date.today()\n",
    "sp_list2 = ['AAPL','MSFT']\n",
    "offset = max(1, (today.weekday() + 6) % 7 - 3)\n",
    "timed = timedelta(offset)\n",
    "today_business = today - timed\n",
    "print(\"d1 =\", today_business)\n",
    "today = today_business.strftime(\"%Y-%m-%d\")\n",
    "start = '2010-01-01' \n",
    "end = today\n",
    "print('S&P500 Stock download')\n",
    "aapl = yf.download(sp_list2, start, end)"
   ]
  },
  {
   "cell_type": "code",
   "execution_count": 70,
   "id": "c92a3fb1",
   "metadata": {},
   "outputs": [
    {
     "name": "stdout",
     "output_type": "stream",
     "text": [
      "[[2.76425354e+02 3.13744507e+02 2.88619995e+02 ... 3.23540009e+02\n",
      "  3.86550000e+06 5.91512000e+07]\n",
      " [2.74222473e+02 3.11368744e+02 2.86320007e+02 ... 3.21160004e+02\n",
      "  3.29670000e+06 7.77097000e+07]\n",
      " [2.74854706e+02 3.12556641e+02 2.86980011e+02 ... 3.20489990e+02\n",
      "  1.64510000e+06 5.56539000e+07]\n",
      " ...\n",
      " [3.29070007e+02 4.11339996e+02 3.29070007e+02 ... 4.11100006e+02\n",
      "  1.06433000e+07 1.51671300e+08]\n",
      " [3.22600006e+02 3.98170013e+02 3.22600006e+02 ... 4.05100006e+02\n",
      "  7.81720000e+06 1.55586100e+08]\n",
      " [3.21829987e+02 3.99089996e+02 3.21829987e+02 ... 4.04489990e+02\n",
      "  7.71650000e+06 1.32497200e+08]]\n"
     ]
    },
    {
     "ename": "NameError",
     "evalue": "name 'S2' is not defined",
     "output_type": "error",
     "traceback": [
      "\u001b[0;31m---------------------------------------------------------------------------\u001b[0m",
      "\u001b[0;31mNameError\u001b[0m                                 Traceback (most recent call last)",
      "\u001b[0;32m/var/folders/y1/w2hspvvs6k19y1cddxdpvt2w0000gn/T/ipykernel_77952/2018874424.py\u001b[0m in \u001b[0;36m<module>\u001b[0;34m\u001b[0m\n\u001b[1;32m      5\u001b[0m \u001b[0mprint\u001b[0m\u001b[0;34m(\u001b[0m\u001b[0mS1\u001b[0m\u001b[0;34m)\u001b[0m\u001b[0;34m\u001b[0m\u001b[0;34m\u001b[0m\u001b[0m\n\u001b[1;32m      6\u001b[0m \u001b[0;34m\u001b[0m\u001b[0m\n\u001b[0;32m----> 7\u001b[0;31m \u001b[0mprint\u001b[0m\u001b[0;34m(\u001b[0m\u001b[0mS2\u001b[0m\u001b[0;34m)\u001b[0m\u001b[0;34m\u001b[0m\u001b[0;34m\u001b[0m\u001b[0m\n\u001b[0m\u001b[1;32m      8\u001b[0m \u001b[0;34m\u001b[0m\u001b[0m\n\u001b[1;32m      9\u001b[0m \u001b[0;31m#example = [[1, 2, 3],[4, 5, 6],[7, 8, 9]];\u001b[0m\u001b[0;34m\u001b[0m\u001b[0;34m\u001b[0m\u001b[0;34m\u001b[0m\u001b[0m\n",
      "\u001b[0;31mNameError\u001b[0m: name 'S2' is not defined"
     ]
    }
   ],
   "source": [
    "#cointegrated_pairs(spy)\n",
    "\n",
    "#scipy.stats.pearsonr(S1,S2)\n",
    "\n",
    "print(S1)\n",
    "\n",
    "print(S2)\n",
    "\n",
    "#example = [[1, 2, 3],[4, 5, 6],[7, 8, 9]];\n",
    "\n",
    "#print(example)\n",
    "\n",
    "#print(example[2:])\n",
    "\n",
    "#print(S1[:,5])\n",
    "\n",
    "#scipy.stats.pearsonr(spy,spy)"
   ]
  },
  {
   "cell_type": "code",
   "execution_count": 44,
   "id": "7e9d4db1",
   "metadata": {},
   "outputs": [
    {
     "ename": "NameError",
     "evalue": "name 'S1' is not defined",
     "output_type": "error",
     "traceback": [
      "\u001b[0;31m---------------------------------------------------------------------------\u001b[0m",
      "\u001b[0;31mNameError\u001b[0m                                 Traceback (most recent call last)",
      "\u001b[0;32m/var/folders/y1/w2hspvvs6k19y1cddxdpvt2w0000gn/T/ipykernel_77952/1383143026.py\u001b[0m in \u001b[0;36m<module>\u001b[0;34m\u001b[0m\n\u001b[0;32m----> 1\u001b[0;31m \u001b[0mresult\u001b[0m \u001b[0;34m=\u001b[0m \u001b[0mts\u001b[0m\u001b[0;34m.\u001b[0m\u001b[0mcoint\u001b[0m\u001b[0;34m(\u001b[0m\u001b[0mS1\u001b[0m\u001b[0;34m,\u001b[0m\u001b[0mS2\u001b[0m\u001b[0;34m)\u001b[0m\u001b[0;34m\u001b[0m\u001b[0;34m\u001b[0m\u001b[0m\n\u001b[0m\u001b[1;32m      2\u001b[0m \u001b[0mresult\u001b[0m\u001b[0;34m[\u001b[0m\u001b[0;36m1\u001b[0m\u001b[0;34m]\u001b[0m\u001b[0;34m\u001b[0m\u001b[0;34m\u001b[0m\u001b[0m\n",
      "\u001b[0;31mNameError\u001b[0m: name 'S1' is not defined"
     ]
    }
   ],
   "source": [
    "result = ts.coint(S1,S2)\n",
    "result[1]"
   ]
  },
  {
   "cell_type": "code",
   "execution_count": 42,
   "id": "814c78ad",
   "metadata": {},
   "outputs": [],
   "source": [
    "def PnL(signals):\n",
    "    signals_np = np.array(signals) # converts our pandas df into numpy array\n",
    "    nu_shift = np.array(signals['nu'].shift(periods=1)) #lag timeseries by 1 trading day\n",
    "    vol_shift = np.array(signals['volatility'].shift(periods=1)) #lag timeseries by 1 trading day\n",
    "    negvol_shift = np.array(signals['negvolatility'].shift(periods=1)) #lag timeseries by 1 trading day\n",
    "    vec_sig = np.zeros(len(signals))\n",
    "    for i in range(len(signals)-1):\n",
    "        #innovation > volatilty & innovation+1 < volatilty+1\n",
    "        if (signals_np[i,0] > signals_np[i,1]): # t1 & t0 SHORT asset when current t changes to nu > volatlity\n",
    "            vec_sig[i] = -1\n",
    "        elif(signals_np[i,0] < signals_np[i,2]): #LONG assets when current t changes to nu < negvol\n",
    "            vec_sig[i] = 1\n",
    "        else:\n",
    "            vec_sig[i] = 0\n",
    "    # at the current day we enter our position\n",
    "    vec_sig = pd.DataFrame({'vec_sig':vec_sig})\n",
    "    return vec_sig"
   ]
  },
  {
   "cell_type": "code",
   "execution_count": 43,
   "id": "db1d1173",
   "metadata": {},
   "outputs": [
    {
     "ename": "IndentationError",
     "evalue": "unexpected indent (1288110750.py, line 9)",
     "output_type": "error",
     "traceback": [
      "\u001b[0;36m  File \u001b[0;32m\"/var/folders/y1/w2hspvvs6k19y1cddxdpvt2w0000gn/T/ipykernel_77952/1288110750.py\"\u001b[0;36m, line \u001b[0;32m9\u001b[0m\n\u001b[0;31m    buy_hold_y = 1000\u001b[0m\n\u001b[0m    ^\u001b[0m\n\u001b[0;31mIndentationError\u001b[0m\u001b[0;31m:\u001b[0m unexpected indent\n"
     ]
    }
   ],
   "source": [
    "def backtesting(vec_sig,S1,S2):\n",
    "    num_shares_y = vec_sig['vec_sig'].iloc[1:] * 1000\n",
    "    num_shares_x = vec_sig['vec_sig'].iloc[1:] * -1000\n",
    "    #forward fill x & y postion \n",
    "    PLX = num_shares_x.values * S1.pct_change().iloc[1:].values # difference of column X \n",
    "    PLY = (num_shares_y.values)  * S2.pct_change().iloc[1:].values #difference of column y \n",
    "    profit_loss = PLX + PLY\n",
    "buy_hold_x = 1000\n",
    "    buy_hold_y = 1000\n",
    "    buy_hold_x = buy_hold_x *  S1.pct_change().iloc[1:] # \n",
    "    buy_hold_y = buy_hold_y *  S2.pct_change().iloc[1:]\n",
    "    buy_hold   = buy_hold_x + buy_hold_y    \n",
    "    buy_hold = sum(buy_hold)\n",
    "    profit_loss = sum(profit_loss)\n",
    "return profit_loss , buy_hold"
   ]
  },
  {
   "cell_type": "code",
   "execution_count": null,
   "id": "aaa3c9a1",
   "metadata": {},
   "outputs": [],
   "source": []
  }
 ],
 "metadata": {
  "kernelspec": {
   "display_name": "Python 3 (ipykernel)",
   "language": "python",
   "name": "python3"
  },
  "language_info": {
   "codemirror_mode": {
    "name": "ipython",
    "version": 3
   },
   "file_extension": ".py",
   "mimetype": "text/x-python",
   "name": "python",
   "nbconvert_exporter": "python",
   "pygments_lexer": "ipython3",
   "version": "3.8.9"
  }
 },
 "nbformat": 4,
 "nbformat_minor": 5
}
